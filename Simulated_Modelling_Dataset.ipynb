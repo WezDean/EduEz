{
 "cells": [
  {
   "cell_type": "code",
   "execution_count": 1,
   "metadata": {},
   "outputs": [
    {
     "name": "stdout",
     "output_type": "stream",
     "text": [
      "CSV file created successfully at C:/Users/waizz/OneDrive/Documents/School/Semester 5/fyp/Student_Data_ML.csv\n"
     ]
    }
   ],
   "source": [
    "import pandas as pd\n",
    "import numpy as np\n",
    "import random\n",
    "\n",
    "# Set the number of records you want in your dataset\n",
    "num_records = 1000\n",
    "\n",
    "# Generate data for each column\n",
    "data = {\n",
    "    \"Student_ID\": [f\"S{str(i).zfill(5)}\" for i in range(1, num_records + 1)],\n",
    "    \"Age\": np.random.randint(17, 22, num_records),\n",
    "    \"Gender\": np.random.choice([\"Male\", \"Female\"], num_records),\n",
    "    \"School_Type\": np.random.choice([\"Public\", \"Private\"], num_records),\n",
    "    \"District\": np.random.choice([\"Brunei-Muara\", \"Tutong\", \"Belait\", \"Temburong\"], num_records),\n",
    "    \"O_Level_Results\": np.random.uniform(2.0, 9.0, num_records).round(2),  # Average grades\n",
    "    \"A_Level_Results\": np.random.uniform(2.0, 9.0, num_records).round(2),  # Average grades\n",
    "    \"O_Level_Credits\": np.random.randint(4, 10, num_records),\n",
    "    \"A_Level_Credits\": np.random.randint(1, 5, num_records),\n",
    "    \"Preferred_Program\": np.random.choice([\"Engineering\", \"Business\", \"IT\", \"Health Sciences\", \"Education\"], num_records),\n",
    "    \"Preferred_Institution\": np.random.choice([\"Politeknik Brunei\", \"Universiti Brunei Darussalam\", \"Micronet International College\", \"International Graduate Studies College\"], num_records),\n",
    "    \"Enrolled\": np.random.choice([0, 1], num_records),\n",
    "    \"Program\": np.random.choice([\"Engineering\", \"Business\", \"IT\", \"Health Sciences\", \"Education\"], num_records),\n",
    "    \"Success_Level\": np.random.choice([\"High\", \"Medium\", \"Low\"], num_records),\n",
    "    \"Previous_Achievements\": np.random.choice([\"None\", \"Sports\", \"Arts\", \"Science Fair\", \"Debate\"], num_records),\n",
    "    \"Extra_Curricular\": np.random.choice([0, 1], num_records),\n",
    "    \"Interest_Areas\": np.random.choice([\"Science\", \"Humanities\", \"Arts\", \"Technology\", \"Business\"], num_records),\n",
    "    \"Recommended_Program\": np.random.choice([\"Engineering\", \"Business\", \"IT\", \"Health Sciences\", \"Education\"], num_records),\n",
    "    \"Household_Income\": np.random.randint(1000, 5000, num_records),\n",
    "    \"Parental_Education\": np.random.choice([\"High School\", \"Diploma\", \"Degree\", \"Masters\"], num_records),\n",
    "    \"Attendance\": np.random.uniform(75, 100, num_records).round(2),  # Attendance percentage\n",
    "    \"Study_Hours\": np.random.randint(5, 20, num_records)\n",
    "}\n",
    "\n",
    "# Create the DataFrame\n",
    "df = pd.DataFrame(data)\n",
    "\n",
    "# Save the DataFrame to a CSV file\n",
    "csv_file_path = \"C:/Users/waizz/OneDrive/Documents/School/Semester 5/fyp/Student_Data_ML.csv\"\n",
    "df.to_csv(csv_file_path, index=False)\n",
    "\n",
    "print(f\"CSV file created successfully at {csv_file_path}\")\n"
   ]
  }
 ],
 "metadata": {
  "kernelspec": {
   "display_name": "base",
   "language": "python",
   "name": "python3"
  },
  "language_info": {
   "codemirror_mode": {
    "name": "ipython",
    "version": 3
   },
   "file_extension": ".py",
   "mimetype": "text/x-python",
   "name": "python",
   "nbconvert_exporter": "python",
   "pygments_lexer": "ipython3",
   "version": "3.11.5"
  }
 },
 "nbformat": 4,
 "nbformat_minor": 2
}
