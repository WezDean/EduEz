{
 "cells": [
  {
   "cell_type": "code",
   "execution_count": 1,
   "metadata": {},
   "outputs": [],
   "source": [
    "import pandas as pd\n",
    "import numpy as np\n",
    "\n",
    "# Load your dataset\n",
    "file_path = \"C:/Users/waizz/OneDrive/Documents/GitHub/EduEz/pages/Updated_Bruneian_Students_Simulated_Dataset.csv\"\n",
    "df = pd.read_csv(file_path)\n",
    "\n",
    "# List of O Level subjects\n",
    "o_level_subjects = {\n",
    "    'O_Level_Mathematics': 'Mathematics',\n",
    "    'O_Level_English': 'English Language',\n",
    "    'O_Level_Malay_Language': 'Bahasa Melayu',\n",
    "    'O_Level_IRK': 'Islamic Religious Knowledge',\n",
    "    'O_Level_Chemistry': 'Chemistry',\n",
    "    'O_Level_Biology': 'Biology',\n",
    "    'O_Level_Physics': 'Physics',\n",
    "    'O_Level_Combined_Science': 'Combined Science',\n",
    "    'O_Level_Commerce': 'Commerce',\n",
    "    'O_Level_Economics': 'Economics',\n",
    "    'O_Level_Computer_Science': 'Computer Science',\n",
    "    'O_Level_Additional_Maths': 'Additional Mathematics'\n",
    "}\n",
    "\n",
    "# Unique grade distribution for each subject based on difficulty\n",
    "grade_distributions = {\n",
    "    'O_Level_Mathematics':     {'A1': 0.05, 'A2': 0.08, 'B3': 0.12, 'B4': 0.15, 'C5': 0.2, 'C6': 0.15, 'D7': 0.1, 'E8': 0.08, 'U': 0.07},\n",
    "    'O_Level_English':         {'A1': 0.1,  'A2': 0.1,  'B3': 0.15, 'B4': 0.15, 'C5': 0.2, 'C6': 0.1,  'D7': 0.1, 'E8': 0.05, 'U': 0.05},\n",
    "    'O_Level_Malay_Language':  {'A1': 0.15, 'A2': 0.12, 'B3': 0.2,  'B4': 0.15, 'C5': 0.15, 'C6': 0.1,  'D7': 0.08, 'E8': 0.03, 'U': 0.02},\n",
    "    'O_Level_IRK':             {'A1': 0.2,  'A2': 0.2,  'B3': 0.18, 'B4': 0.12, 'C5': 0.1,  'C6': 0.1,  'D7': 0.05, 'E8': 0.03, 'U': 0.02},\n",
    "    'O_Level_Chemistry':       {'A1': 0.05, 'A2': 0.1,  'B3': 0.12, 'B4': 0.15, 'C5': 0.2,  'C6': 0.15, 'D7': 0.1, 'E8': 0.07, 'U': 0.06},\n",
    "    'O_Level_Biology':         {'A1': 0.1,  'A2': 0.12, 'B3': 0.15, 'B4': 0.12, 'C5': 0.18, 'C6': 0.15, 'D7': 0.08, 'E8': 0.05, 'U': 0.05},\n",
    "    'O_Level_Physics':         {'A1': 0.08, 'A2': 0.1,  'B3': 0.12, 'B4': 0.15, 'C5': 0.2,  'C6': 0.15, 'D7': 0.08, 'E8': 0.07, 'U': 0.05},\n",
    "    'O_Level_Combined_Science':{'A1': 0.08, 'A2': 0.1,  'B3': 0.15, 'B4': 0.15, 'C5': 0.2,  'C6': 0.12, 'D7': 0.1, 'E8': 0.05, 'U': 0.05},\n",
    "    'O_Level_Commerce':        {'A1': 0.1,  'A2': 0.15, 'B3': 0.15, 'B4': 0.18, 'C5': 0.15, 'C6': 0.1,  'D7': 0.07, 'E8': 0.06, 'U': 0.04},\n",
    "    'O_Level_Economics':       {'A1': 0.08, 'A2': 0.12, 'B3': 0.15, 'B4': 0.18, 'C5': 0.15, 'C6': 0.1,  'D7': 0.08, 'E8': 0.07, 'U': 0.07},\n",
    "    'O_Level_Computer_Science':{'A1': 0.12, 'A2': 0.12, 'B3': 0.2,  'B4': 0.15, 'C5': 0.15, 'C6': 0.1,  'D7': 0.05, 'E8': 0.07, 'U': 0.04},\n",
    "    'O_Level_Additional_Maths':{'A1': 0.05, 'A2': 0.07, 'B3': 0.12, 'B4': 0.15, 'C5': 0.15, 'C6': 0.15, 'D7': 0.1, 'E8': 0.08, 'U': 0.13}\n",
    "}\n",
    "\n",
    "# Function to assign grades based on distribution\n",
    "def assign_grades(num_students, distribution):\n",
    "    grades = pd.Series(\n",
    "        np.random.choice(list(distribution.keys()), size=num_students, p=list(distribution.values()))\n",
    "    )\n",
    "    return grades\n",
    "\n",
    "# Modify grades for each O Level subject with unique distribution\n",
    "for subject in o_level_subjects:\n",
    "    df[subject] = assign_grades(len(df), grade_distributions[subject])\n",
    "\n",
    "# Save the modified dataset\n",
    "df.to_csv('modified_bruneian_students_dataset.csv', index=False)\n"
   ]
  }
 ],
 "metadata": {
  "kernelspec": {
   "display_name": "base",
   "language": "python",
   "name": "python3"
  },
  "language_info": {
   "codemirror_mode": {
    "name": "ipython",
    "version": 3
   },
   "file_extension": ".py",
   "mimetype": "text/x-python",
   "name": "python",
   "nbconvert_exporter": "python",
   "pygments_lexer": "ipython3",
   "version": "3.11.5"
  }
 },
 "nbformat": 4,
 "nbformat_minor": 2
}
