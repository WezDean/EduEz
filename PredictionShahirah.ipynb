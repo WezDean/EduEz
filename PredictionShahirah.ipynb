{
 "cells": [
  {
   "cell_type": "code",
   "execution_count": 7,
   "metadata": {},
   "outputs": [
    {
     "name": "stdout",
     "output_type": "stream",
     "text": [
      "Accuracy: 0.63\n",
      "Classification Report:\n",
      "              precision    recall  f1-score   support\n",
      "\n",
      "           0       0.65      0.93      0.76       194\n",
      "           1       0.35      0.07      0.11       106\n",
      "\n",
      "    accuracy                           0.63       300\n",
      "   macro avg       0.50      0.50      0.44       300\n",
      "weighted avg       0.54      0.63      0.53       300\n",
      "\n"
     ]
    }
   ],
   "source": [
    "import pandas as pd\n",
    "from sklearn.model_selection import train_test_split\n",
    "from sklearn.naive_bayes import GaussianNB\n",
    "from sklearn.metrics import classification_report, accuracy_score\n",
    "\n",
    "# Load the dataset\n",
    "file_path = 'Student_Data_ML.csv'\n",
    "student_data = pd.read_csv(file_path)\n",
    "\n",
    "# Binarize the Success_Level to create the target variable 'Enroll'\n",
    "student_data['Enroll'] = student_data['Success_Level'].apply(lambda x: 1 if x == 'High' else 0)\n",
    "\n",
    "# Define the features and the target variable\n",
    "features = [\n",
    "    'O_Level_Results', 'A_Level_Results', 'O_Level_Credits', 'A_Level_Credits',\n",
    "    'Gender', 'Age', 'School_Type', 'District', 'Preferred_Program'\n",
    "]\n",
    "X = pd.get_dummies(student_data[features], drop_first=True)\n",
    "\n",
    "# Handle missing values if any\n",
    "X.fillna(X.median(), inplace=True)\n",
    "\n",
    "y = student_data['Enroll']\n",
    "\n",
    "# Split the data into training and testing sets\n",
    "X_train, X_test, y_train, y_test = train_test_split(X, y, test_size=0.3, random_state=42)\n",
    "\n",
    "# Initialize and train the GaussianNB model\n",
    "model = GaussianNB()\n",
    "model.fit(X_train, y_train)\n",
    "\n",
    "# Make predictions\n",
    "y_pred = model.predict(X_test)\n",
    "\n",
    "# Evaluate the model\n",
    "accuracy = accuracy_score(y_test, y_pred)\n",
    "report = classification_report(y_test, y_pred)\n",
    "\n",
    "# Output the accuracy and classification report\n",
    "print(f\"Accuracy: {accuracy:.2f}\")\n",
    "print(f\"Classification Report:\\n{report}\")"
   ]
  }
 ],
 "metadata": {
  "kernelspec": {
   "display_name": "base",
   "language": "python",
   "name": "python3"
  },
  "language_info": {
   "codemirror_mode": {
    "name": "ipython",
    "version": 3
   },
   "file_extension": ".py",
   "mimetype": "text/x-python",
   "name": "python",
   "nbconvert_exporter": "python",
   "pygments_lexer": "ipython3",
   "version": "3.11.5"
  }
 },
 "nbformat": 4,
 "nbformat_minor": 2
}
